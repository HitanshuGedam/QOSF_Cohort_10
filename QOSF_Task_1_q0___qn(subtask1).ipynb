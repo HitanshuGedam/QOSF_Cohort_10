{
 "cells": [
  {
   "cell_type": "code",
   "execution_count": 107,
   "id": "3e8ef3b5-ea68-427b-8a56-f46d13474124",
   "metadata": {},
   "outputs": [],
   "source": [
    "import numpy as np\n",
    "import matplotlib.pyplot as plt"
   ]
  },
  {
   "cell_type": "code",
   "execution_count": 108,
   "id": "cd84961b-ffe2-47a5-8072-841a925d741a",
   "metadata": {},
   "outputs": [],
   "source": [
    "X = np.array([[0,1],[1,0]])\n",
    "Z = np.array([[1,0], [0,-1]])\n",
    "H = np.array([[1,1], [1,-1]]) * 1/(np.sqrt(2))\n",
    "CNOT = np.array([[1,0,0,0], \n",
    "                 [0,1,0,0],\n",
    "                 [0,0,0,1],\n",
    "                 [0,0,1,0]])\n",
    "I = np.eye(2)"
   ]
  },
  {
   "cell_type": "code",
   "execution_count": 109,
   "id": "d9a9f3f6-6a37-422e-a024-506d3c0da350",
   "metadata": {},
   "outputs": [],
   "source": [
    "def initialize_state(num_qubits):\n",
    "    statevector = np.zeros(2**num_qubits, dtype=complex)\n",
    "    statevector[0] = 1\n",
    "    return statevector"
   ]
  },
  {
   "cell_type": "code",
   "execution_count": 110,
   "id": "173ef47e-acbf-4d55-a17f-9f0ac27a1bd7",
   "metadata": {},
   "outputs": [],
   "source": [
    "def apply_single_qubit_gate(state, gate, qubit_index):\n",
    "    \"\"\"Apply a single-qubit gate to the specified qubit in the state\"\"\"\n",
    "    full_gate = np.array([1])  \n",
    "\n",
    "    for i in range(int(np.log2(len(state)))):\n",
    "        if i == qubit_index:\n",
    "            full_gate = np.kron(full_gate, gate)  \n",
    "        else:\n",
    "            full_gate = np.kron(full_gate, I)  \n",
    "\n",
    "    return np.dot(full_gate, state)\n",
    "\n",
    "# qubit q is represented as |q0q1q2q3...qn>\n"
   ]
  },
  {
   "cell_type": "code",
   "execution_count": 111,
   "id": "f3fd7b8f-bcd5-4b62-87f7-7922d4ef27c5",
   "metadata": {},
   "outputs": [
    {
     "name": "stdout",
     "output_type": "stream",
     "text": [
      "[0.+0.j 0.+0.j 0.+0.j 0.+0.j 0.+0.j 0.+0.j 0.+0.j 0.+0.j 1.+0.j 0.+0.j\n",
      " 0.+0.j 0.+0.j 0.+0.j 0.+0.j 0.+0.j 0.+0.j]\n"
     ]
    }
   ],
   "source": [
    "state = initialize_state(4)\n",
    "new_state = apply_single_qubit_gate(state, X, 0)  # Apply X gate to qubit 0\n",
    "print(new_state)"
   ]
  },
  {
   "cell_type": "code",
   "execution_count": 112,
   "id": "f804ba4c-8a29-4328-8e01-b40cf7af361f",
   "metadata": {},
   "outputs": [],
   "source": [
    "def apply_cnot_gate(state, control_index, target_index, num_qubits):\n",
    "    \"\"\"Apply the CNOT gate between two qubits.\"\"\"\n",
    "    \n",
    "    # Reshape the state into a tensor of shape (2, 2, ..., 2) for easy manipulation\n",
    "    state_tensor = np.reshape(state, [2] * num_qubits)\n",
    "    \n",
    "    # Iterate through all basis states and apply the CNOT transformation\n",
    "    for i in range(2**num_qubits):\n",
    "        # Get binary representation of the index \n",
    "        bits = np.binary_repr(i, width=num_qubits)\n",
    "        bits = list(map(int, bits))  \n",
    "        \n",
    "        # Apply CNOT logic: If control is 1, flip the target qubit\n",
    "        if bits[control_index] == 1:\n",
    "            bits[target_index] ^= 1  # Flip the target bit\n",
    "\n",
    "        # Convert the modified bits back to an index\n",
    "        new_index = int(''.join(map(str, bits)), 2)\n",
    "        \n",
    "        # Update the state\n",
    "        state[new_index] = state[i]\n",
    "\n",
    "    return state"
   ]
  },
  {
   "cell_type": "code",
   "execution_count": 113,
   "id": "ee534dcd-041d-4e63-be2e-b2cc919a6873",
   "metadata": {},
   "outputs": [
    {
     "name": "stdout",
     "output_type": "stream",
     "text": [
      "New state after applying CNOT gate between qubit 0 (control) and qubit 1 (target): [0.+0.j 0.+0.j 0.+0.j 0.+0.j 1.+0.j 0.+0.j 1.+0.j 0.+0.j]\n"
     ]
    }
   ],
   "source": [
    "# Example usage\n",
    "state = initialize_state(3)  # Initialize the |000> state for 3 qubits\n",
    "new_state = apply_single_qubit_gate(state, X, 0) # Apply X on qubit 0 \n",
    "new_state = apply_cnot_gate(new_state, 0, 1, 3)  # Apply CNOT with control qubit 0 and target qubit 1\n",
    "\n",
    "print(\"New state after applying CNOT gate between qubit 0 (control) and qubit 1 (target):\", new_state)"
   ]
  },
  {
   "cell_type": "code",
   "execution_count": 114,
   "id": "0cced658-6192-40f1-b953-ba833bdeca67",
   "metadata": {},
   "outputs": [
    {
     "name": "stdout",
     "output_type": "stream",
     "text": [
      "Initial state: [1.+0.j 0.+0.j 0.+0.j 0.+0.j 0.+0.j 0.+0.j 0.+0.j 0.+0.j]\n",
      "After applying H on qubit 0: [0.70710678+0.j 0.        +0.j 0.        +0.j 0.        +0.j\n",
      " 0.70710678+0.j 0.        +0.j 0.        +0.j 0.        +0.j]\n",
      "After applying CNOT with control qubit 0 and target qubit 1: [0.70710678+0.j 0.        +0.j 0.        +0.j 0.        +0.j\n",
      " 0.70710678+0.j 0.        +0.j 0.70710678+0.j 0.        +0.j]\n",
      "After applying X on qubit 1: [0.        +0.j 0.        +0.j 0.70710678+0.j 0.        +0.j\n",
      " 0.70710678+0.j 0.        +0.j 0.70710678+0.j 0.        +0.j]\n",
      "Final state vector: [0.        +0.j 0.        +0.j 0.70710678+0.j 0.        +0.j\n",
      " 0.70710678+0.j 0.        +0.j 0.70710678+0.j 0.        +0.j]\n"
     ]
    }
   ],
   "source": [
    "def quantum_circuit(num_qubits):\n",
    "    \"\"\"Define a quantum circuit and apply gates sequentially.\"\"\"\n",
    "    # Initialize the state |000...0>\n",
    "    state = initialize_state(num_qubits)\n",
    "\n",
    "    # Apply gates in sequence\n",
    "    print(\"Initial state:\", state)\n",
    "\n",
    "    # Apply Hadamard gate to the first qubit\n",
    "    state = apply_single_qubit_gate(state, H, 0)\n",
    "    print(\"After applying H on qubit 0:\", state)\n",
    "\n",
    "    # Apply CNOT gate with control qubit 0 and target qubit 1\n",
    "    state = apply_cnot_gate(state, 0, 1, num_qubits)\n",
    "    print(\"After applying CNOT with control qubit 0 and target qubit 1:\", state)\n",
    "\n",
    "    # Apply X gate to the second qubit\n",
    "    state = apply_single_qubit_gate(state, X, 1)\n",
    "    print(\"After applying X on qubit 1:\", state)\n",
    "\n",
    "    return state\n",
    "\n",
    "# Example usage\n",
    "num_qubits = 3  # Define the number of qubits in the circuit\n",
    "final_state = quantum_circuit(num_qubits)\n",
    "print(\"Final state vector:\", final_state)\n"
   ]
  },
  {
   "cell_type": "code",
   "execution_count": 115,
   "id": "df473d13-806b-4fe1-b748-8ba9d2f10bfe",
   "metadata": {},
   "outputs": [
    {
     "name": "stdout",
     "output_type": "stream",
     "text": [
      "Initial state: [1.+0.j 0.+0.j 0.+0.j 0.+0.j]\n",
      "After applying H on qubit 0: [0.70710678+0.j 0.        +0.j 0.70710678+0.j 0.        +0.j]\n",
      "After applying CNOT with control qubit 0 and target qubit 1: [0.70710678+0.j 0.        +0.j 0.70710678+0.j 0.70710678+0.j]\n",
      "After applying X on qubit 1: [0.        +0.j 0.70710678+0.j 0.70710678+0.j 0.70710678+0.j]\n",
      "Runtime for 2 qubits: 0.001998 seconds\n",
      "Initial state: [1.+0.j 0.+0.j 0.+0.j 0.+0.j 0.+0.j 0.+0.j 0.+0.j 0.+0.j]\n",
      "After applying H on qubit 0: [0.70710678+0.j 0.        +0.j 0.        +0.j 0.        +0.j\n",
      " 0.70710678+0.j 0.        +0.j 0.        +0.j 0.        +0.j]\n",
      "After applying CNOT with control qubit 0 and target qubit 1: [0.70710678+0.j 0.        +0.j 0.        +0.j 0.        +0.j\n",
      " 0.70710678+0.j 0.        +0.j 0.70710678+0.j 0.        +0.j]\n",
      "After applying X on qubit 1: [0.        +0.j 0.        +0.j 0.70710678+0.j 0.        +0.j\n",
      " 0.70710678+0.j 0.        +0.j 0.70710678+0.j 0.        +0.j]\n",
      "Runtime for 3 qubits: 0.002002 seconds\n",
      "Initial state: [1.+0.j 0.+0.j 0.+0.j 0.+0.j 0.+0.j 0.+0.j 0.+0.j 0.+0.j 0.+0.j 0.+0.j\n",
      " 0.+0.j 0.+0.j 0.+0.j 0.+0.j 0.+0.j 0.+0.j]\n",
      "After applying H on qubit 0: [0.70710678+0.j 0.        +0.j 0.        +0.j 0.        +0.j\n",
      " 0.        +0.j 0.        +0.j 0.        +0.j 0.        +0.j\n",
      " 0.70710678+0.j 0.        +0.j 0.        +0.j 0.        +0.j\n",
      " 0.        +0.j 0.        +0.j 0.        +0.j 0.        +0.j]\n",
      "After applying CNOT with control qubit 0 and target qubit 1: [0.70710678+0.j 0.        +0.j 0.        +0.j 0.        +0.j\n",
      " 0.        +0.j 0.        +0.j 0.        +0.j 0.        +0.j\n",
      " 0.70710678+0.j 0.        +0.j 0.        +0.j 0.        +0.j\n",
      " 0.70710678+0.j 0.        +0.j 0.        +0.j 0.        +0.j]\n",
      "After applying X on qubit 1: [0.        +0.j 0.        +0.j 0.        +0.j 0.        +0.j\n",
      " 0.70710678+0.j 0.        +0.j 0.        +0.j 0.        +0.j\n",
      " 0.70710678+0.j 0.        +0.j 0.        +0.j 0.        +0.j\n",
      " 0.70710678+0.j 0.        +0.j 0.        +0.j 0.        +0.j]\n",
      "Runtime for 4 qubits: 0.001001 seconds\n",
      "Initial state: [1.+0.j 0.+0.j 0.+0.j 0.+0.j 0.+0.j 0.+0.j 0.+0.j 0.+0.j]\n",
      "After applying H on qubit 0: [0.70710678+0.j 0.        +0.j 0.        +0.j 0.        +0.j\n",
      " 0.70710678+0.j 0.        +0.j 0.        +0.j 0.        +0.j]\n",
      "After applying CNOT with control qubit 0 and target qubit 1: [0.70710678+0.j 0.        +0.j 0.        +0.j 0.        +0.j\n",
      " 0.70710678+0.j 0.        +0.j 0.70710678+0.j 0.        +0.j]\n",
      "After applying X on qubit 1: [0.        +0.j 0.        +0.j 0.70710678+0.j 0.        +0.j\n",
      " 0.70710678+0.j 0.        +0.j 0.70710678+0.j 0.        +0.j]\n",
      "\n",
      "Final state vector for 3 qubits: [0.        +0.j 0.        +0.j 0.70710678+0.j 0.        +0.j\n",
      " 0.70710678+0.j 0.        +0.j 0.70710678+0.j 0.        +0.j]\n"
     ]
    }
   ],
   "source": [
    "def measure_runtime(num_qubits):\n",
    "    \"\"\"Measure the runtime for simulating the quantum circuit with num_qubits.\"\"\"\n",
    "    start_time = time.time()\n",
    "    quantum_circuit(num_qubits)\n",
    "    end_time = time.time()\n",
    "    return end_time - start_time\n",
    "\n",
    "# Example usage with runtime measurement\n",
    "qubit_counts = [2, 3, 4]  # Define different numbers of qubits to test\n",
    "runtimes = []\n",
    "\n",
    "for n in qubit_counts:\n",
    "    runtime = measure_runtime(n)\n",
    "    runtimes.append(runtime)\n",
    "    print(f\"Runtime for {n} qubits: {runtime:.6f} seconds\")\n",
    "\n",
    "# Final output with the last calculated state\n",
    "print(\"\\nFinal state vector for 3 qubits:\", quantum_circuit(3))"
   ]
  },
  {
   "cell_type": "code",
   "execution_count": 119,
   "id": "de89ab20-f18a-4187-9b26-fd3a9055882d",
   "metadata": {},
   "outputs": [
    {
     "data": {
      "image/png": "[encoded data removed]",
      "text/plain": [
       "<Figure size 800x600 with 1 Axes>"
      ]
     },
     "metadata": {},
     "output_type": "display_data"
    }
   ],
   "source": [
    "def plot_runtime(qubit_counts, runtimes):\n",
    "    \"\"\"Plot the number of qubits versus runtime.\"\"\"\n",
    "    plt.figure(figsize=(8, 6))\n",
    "    plt.plot(qubit_counts, runtimes, marker='o', linestyle='-', color='b', label='Runtime')\n",
    "    plt.title('Number of Qubits vs. Runtime')\n",
    "    plt.xlabel('Number of Qubits')\n",
    "    plt.ylabel('Runtime (seconds)')\n",
    "    plt.grid(True)\n",
    "    plt.legend()\n",
    "    plt.tight_layout()\n",
    "    plt.show()\n",
    "\n",
    "\n",
    "\n",
    "# Plot the qubit count vs runtime\n",
    "plot_runtime(qubit_counts, runtimes)"
   ]
  },
  {
   "cell_type": "code",
   "execution_count": 1,
   "id": "33692543-a036-4edf-8cd2-b22f400cc381",
   "metadata": {},
   "outputs": [
    {
     "name": "stdout",
     "output_type": "stream",
     "text": [
      "Sampled basis states: [3 0 3 0 3]\n"
     ]
    }
   ],
   "source": [
    "import numpy as np\n",
    "# Function to sample from a quantum statevector\n",
    "def sample_from_state(state_vector, num_samples=1):\n",
    "    # Compute probabilities as squared magnitudes of the amplitudes\n",
    "    probabilities = np.abs(state_vector.flatten()) ** 2\n",
    "    \n",
    "    # Ensure the probabilities sum to 1 due to possible rounding errors\n",
    "    probabilities /= np.sum(probabilities)\n",
    "    \n",
    "    # Generate samples based on these probabilities\n",
    "    num_basis_states = len(probabilities)\n",
    "    basis_states = np.arange(num_basis_states)  # Basis states are 0, 1, 2, ..., 2^n - 1\n",
    "    samples = np.random.choice(basis_states, p=probabilities, size=num_samples)\n",
    "    \n",
    "    return samples\n",
    "\n",
    "state_vector = np.array([1/np.sqrt(2), 0, 0, 1/np.sqrt(2), 0, 0, 0, 0], dtype=complex)\n",
    "\n",
    "# Sample 5 measurements from the quantum state\n",
    "samples = sample_from_state(state_vector, num_samples=5)\n",
    "print(\"Sampled basis states:\", samples)\n"
   ]
  },
  {
   "cell_type": "code",
   "execution_count": 2,
   "id": "56e219fb-119c-4023-affe-ebb94bb0ea77",
   "metadata": {},
   "outputs": [
    {
     "name": "stdout",
     "output_type": "stream",
     "text": [
      "Expectation value of Pauli-X: 0.9999999999999998\n"
     ]
    }
   ],
   "source": [
    "# Function to compute the expectation value of an operator\n",
    "def compute_expectation_value(state_vector, operator):\n",
    "    # Apply the operator to the state vector\n",
    "    new_state = np.dot(operator, state_vector)\n",
    "    \n",
    "    # Compute the inner product of the original state and the new state\n",
    "    expectation_value = np.dot(state_vector.conj().T, new_state)\n",
    "    \n",
    "    return np.real(expectation_value)  # Expectation values are real for Hermitian operators\n",
    "\n",
    "# Example: Pauli-X operator\n",
    "X = np.array([[0, 1], [1, 0]])\n",
    "\n",
    "# Example 1-qubit statevector (in superposition)\n",
    "state_vector = np.array([1/np.sqrt(2), 1/np.sqrt(2)], dtype=complex)\n",
    "\n",
    "# Compute expectation value of the Pauli-X operator\n",
    "expectation_X = compute_expectation_value(state_vector, X)\n",
    "print(\"Expectation value of Pauli-X:\", expectation_X)\n"
   ]
  },
  {
   "cell_type": "code",
   "execution_count": null,
   "id": "57781645-2697-4992-8c81-1f03c70aa3bc",
   "metadata": {},
   "outputs": [],
   "source": []
  }
 ],
 "metadata": {
  "kernelspec": {
   "display_name": "Python 3 (ipykernel)",
   "language": "python",
   "name": "python3"
  },
  "language_info": {
   "codemirror_mode": {
    "name": "ipython",
    "version": 3
   },
   "file_extension": ".py",
   "mimetype": "text/x-python",
   "name": "python",
   "nbconvert_exporter": "python",
   "pygments_lexer": "ipython3",
   "version": "3.11.3"
  }
 },
 "nbformat": 4,
 "nbformat_minor": 5
}
